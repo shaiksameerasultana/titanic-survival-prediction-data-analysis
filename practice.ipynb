{
 "cells": [
  {
   "cell_type": "markdown",
   "id": "906d129b",
   "metadata": {},
   "source": [
    "# **Titanic Data Analysis Project**"
   ]
  },
  {
   "cell_type": "markdown",
   "id": "574bfb80",
   "metadata": {},
   "source": [
    "# **Objective of the project**"
   ]
  },
  {
   "cell_type": "markdown",
   "id": "1c9c0e8d",
   "metadata": {},
   "source": [
    "The goal of this project is to analyze the Titanic passenger dataset to:\n",
    "Understand passenger demographics\n",
    "\n",
    "Handle missing and duplicate \n",
    "\n",
    "Detect and remove outliers\n",
    "\n",
    "Visualize key features\n",
    "\n",
    "Prepare data for further modeling\n",
    "\n",
    "# **📊 Dataset Details**\n",
    "Source: Titanic dataset (Kaggle/open-source)\n",
    "\n",
    "Rows: 891 passengers\n",
    "\n",
    "Columns: 12 features\n",
    "\n",
    "Key Columns: Age, Fare, Sex, Pclass, Embarked, Survived, etc.\n",
    "\n",
    "\n",
    "\n"
   ]
  },
  {
   "cell_type": "markdown",
   "id": "0b8be759",
   "metadata": {},
   "source": [
    "# **Techniques Used while Loading data using pandas**"
   ]
  },
  {
   "cell_type": "markdown",
   "id": "09905b48",
   "metadata": {},
   "source": [
    "Data Exploration (head, tail, info, describe)\n",
    "\n",
    "Data Cleaning (null handling, duplicates, outliers)\n",
    "\n",
    "Data Preprocessing (renaming, filtering)\n",
    "\n",
    "Data Visualization (matplotlib & seaborn)\n",
    "\n",
    "Optional: Classification Modeling (Logistic Regression)"
   ]
  },
  {
   "cell_type": "markdown",
   "id": "3bcdde7c",
   "metadata": {},
   "source": [
    "# **Tools Used**"
   ]
  },
  {
   "cell_type": "markdown",
   "id": "6546053d",
   "metadata": {},
   "source": [
    "Python\n",
    "\n",
    "pandas\n",
    "\n",
    "numpy\n",
    "\n",
    "matplotlib\n",
    "\n",
    "seaborn\n",
    "\n",
    "jupyter notebook in vs code"
   ]
  },
  {
   "cell_type": "markdown",
   "id": "1db6c5ec",
   "metadata": {},
   "source": [
    "# **Importing Required Libraries**"
   ]
  },
  {
   "cell_type": "code",
   "execution_count": 1,
   "id": "6dacd61d",
   "metadata": {},
   "outputs": [],
   "source": [
    "import pandas as pd  \n",
    "import numpy as np\n",
    "import matplotlib.pyplot as plt\n",
    "import seaborn as sns\n",
    "import warnings\n",
    "warnings.filterwarnings('ignore')"
   ]
  },
  {
   "cell_type": "markdown",
   "id": "bb3de935",
   "metadata": {},
   "source": [
    "# **Load The DataSet**"
   ]
  },
  {
   "cell_type": "code",
   "execution_count": 2,
   "id": "70aeae95",
   "metadata": {},
   "outputs": [],
   "source": [
    "df=pd.read_csv(\"titanic.csv\")"
   ]
  },
  {
   "cell_type": "markdown",
   "id": "44c6ab3e",
   "metadata": {},
   "source": [
    "# **Initial Data Exploration**"
   ]
  },
  {
   "cell_type": "code",
   "execution_count": 3,
   "id": "3a51a89e",
   "metadata": {},
   "outputs": [
    {
     "data": {
      "text/html": [
       "<div>\n",
       "<style scoped>\n",
       "    .dataframe tbody tr th:only-of-type {\n",
       "        vertical-align: middle;\n",
       "    }\n",
       "\n",
       "    .dataframe tbody tr th {\n",
       "        vertical-align: top;\n",
       "    }\n",
       "\n",
       "    .dataframe thead th {\n",
       "        text-align: right;\n",
       "    }\n",
       "</style>\n",
       "<table border=\"1\" class=\"dataframe\">\n",
       "  <thead>\n",
       "    <tr style=\"text-align: right;\">\n",
       "      <th></th>\n",
       "      <th>PassengerId</th>\n",
       "      <th>Pclass</th>\n",
       "      <th>Name</th>\n",
       "      <th>Sex</th>\n",
       "      <th>Age</th>\n",
       "      <th>SibSp</th>\n",
       "      <th>Parch</th>\n",
       "      <th>Fare</th>\n",
       "      <th>Embarked</th>\n",
       "    </tr>\n",
       "  </thead>\n",
       "  <tbody>\n",
       "    <tr>\n",
       "      <th>0</th>\n",
       "      <td>1</td>\n",
       "      <td>3</td>\n",
       "      <td>Braund, Mr. Owen Harris</td>\n",
       "      <td>male</td>\n",
       "      <td>22</td>\n",
       "      <td>1</td>\n",
       "      <td>0</td>\n",
       "      <td>7.2500</td>\n",
       "      <td>S</td>\n",
       "    </tr>\n",
       "    <tr>\n",
       "      <th>1</th>\n",
       "      <td>2</td>\n",
       "      <td>1</td>\n",
       "      <td>Cumings, Mrs. John Bradley</td>\n",
       "      <td>female</td>\n",
       "      <td>38</td>\n",
       "      <td>1</td>\n",
       "      <td>0</td>\n",
       "      <td>71.2833</td>\n",
       "      <td>C</td>\n",
       "    </tr>\n",
       "    <tr>\n",
       "      <th>2</th>\n",
       "      <td>3</td>\n",
       "      <td>3</td>\n",
       "      <td>Heikkinen, Miss. Laina</td>\n",
       "      <td>female</td>\n",
       "      <td>26</td>\n",
       "      <td>0</td>\n",
       "      <td>0</td>\n",
       "      <td>7.9250</td>\n",
       "      <td>S</td>\n",
       "    </tr>\n",
       "    <tr>\n",
       "      <th>3</th>\n",
       "      <td>4</td>\n",
       "      <td>1</td>\n",
       "      <td>Futrelle, Mrs. Jacques Heath</td>\n",
       "      <td>female</td>\n",
       "      <td>35</td>\n",
       "      <td>1</td>\n",
       "      <td>0</td>\n",
       "      <td>53.1000</td>\n",
       "      <td>S</td>\n",
       "    </tr>\n",
       "    <tr>\n",
       "      <th>4</th>\n",
       "      <td>5</td>\n",
       "      <td>3</td>\n",
       "      <td>Allen, Mr. William Henry</td>\n",
       "      <td>male</td>\n",
       "      <td>35</td>\n",
       "      <td>0</td>\n",
       "      <td>0</td>\n",
       "      <td>8.0500</td>\n",
       "      <td>S</td>\n",
       "    </tr>\n",
       "    <tr>\n",
       "      <th>5</th>\n",
       "      <td>6</td>\n",
       "      <td>1</td>\n",
       "      <td>Moran, Mr. James</td>\n",
       "      <td>male</td>\n",
       "      <td>29</td>\n",
       "      <td>0</td>\n",
       "      <td>0</td>\n",
       "      <td>8.4583</td>\n",
       "      <td>Q</td>\n",
       "    </tr>\n",
       "    <tr>\n",
       "      <th>6</th>\n",
       "      <td>7</td>\n",
       "      <td>3</td>\n",
       "      <td>McCarthy, Mr. Timothy J</td>\n",
       "      <td>male</td>\n",
       "      <td>54</td>\n",
       "      <td>0</td>\n",
       "      <td>0</td>\n",
       "      <td>51.8625</td>\n",
       "      <td>S</td>\n",
       "    </tr>\n",
       "    <tr>\n",
       "      <th>7</th>\n",
       "      <td>8</td>\n",
       "      <td>3</td>\n",
       "      <td>Palsson, Miss. Torborg Danira</td>\n",
       "      <td>female</td>\n",
       "      <td>23</td>\n",
       "      <td>0</td>\n",
       "      <td>0</td>\n",
       "      <td>9.8375</td>\n",
       "      <td>S</td>\n",
       "    </tr>\n",
       "    <tr>\n",
       "      <th>8</th>\n",
       "      <td>9</td>\n",
       "      <td>2</td>\n",
       "      <td>Johnson, Mrs. Oscar W</td>\n",
       "      <td>female</td>\n",
       "      <td>27</td>\n",
       "      <td>1</td>\n",
       "      <td>0</td>\n",
       "      <td>13.0000</td>\n",
       "      <td>S</td>\n",
       "    </tr>\n",
       "    <tr>\n",
       "      <th>9</th>\n",
       "      <td>10</td>\n",
       "      <td>3</td>\n",
       "      <td>Nasser, Mr. Nicholas</td>\n",
       "      <td>male</td>\n",
       "      <td>27</td>\n",
       "      <td>0</td>\n",
       "      <td>0</td>\n",
       "      <td>9.2250</td>\n",
       "      <td>S</td>\n",
       "    </tr>\n",
       "  </tbody>\n",
       "</table>\n",
       "</div>"
      ],
      "text/plain": [
       "   PassengerId  Pclass                           Name     Sex  Age  SibSp  \\\n",
       "0            1       3        Braund, Mr. Owen Harris    male   22      1   \n",
       "1            2       1     Cumings, Mrs. John Bradley  female   38      1   \n",
       "2            3       3         Heikkinen, Miss. Laina  female   26      0   \n",
       "3            4       1   Futrelle, Mrs. Jacques Heath  female   35      1   \n",
       "4            5       3       Allen, Mr. William Henry    male   35      0   \n",
       "5            6       1               Moran, Mr. James    male   29      0   \n",
       "6            7       3        McCarthy, Mr. Timothy J    male   54      0   \n",
       "7            8       3  Palsson, Miss. Torborg Danira  female   23      0   \n",
       "8            9       2          Johnson, Mrs. Oscar W  female   27      1   \n",
       "9           10       3           Nasser, Mr. Nicholas    male   27      0   \n",
       "\n",
       "   Parch     Fare Embarked  \n",
       "0      0   7.2500        S  \n",
       "1      0  71.2833        C  \n",
       "2      0   7.9250        S  \n",
       "3      0  53.1000        S  \n",
       "4      0   8.0500        S  \n",
       "5      0   8.4583        Q  \n",
       "6      0  51.8625        S  \n",
       "7      0   9.8375        S  \n",
       "8      0  13.0000        S  \n",
       "9      0   9.2250        S  "
      ]
     },
     "execution_count": 3,
     "metadata": {},
     "output_type": "execute_result"
    }
   ],
   "source": [
    "df.head(10)"
   ]
  },
  {
   "cell_type": "code",
   "execution_count": 4,
   "id": "8df2cf17",
   "metadata": {},
   "outputs": [
    {
     "data": {
      "text/html": [
       "<div>\n",
       "<style scoped>\n",
       "    .dataframe tbody tr th:only-of-type {\n",
       "        vertical-align: middle;\n",
       "    }\n",
       "\n",
       "    .dataframe tbody tr th {\n",
       "        vertical-align: top;\n",
       "    }\n",
       "\n",
       "    .dataframe thead th {\n",
       "        text-align: right;\n",
       "    }\n",
       "</style>\n",
       "<table border=\"1\" class=\"dataframe\">\n",
       "  <thead>\n",
       "    <tr style=\"text-align: right;\">\n",
       "      <th></th>\n",
       "      <th>PassengerId</th>\n",
       "      <th>Pclass</th>\n",
       "      <th>Name</th>\n",
       "      <th>Sex</th>\n",
       "      <th>Age</th>\n",
       "      <th>SibSp</th>\n",
       "      <th>Parch</th>\n",
       "      <th>Fare</th>\n",
       "      <th>Embarked</th>\n",
       "    </tr>\n",
       "  </thead>\n",
       "  <tbody>\n",
       "    <tr>\n",
       "      <th>0</th>\n",
       "      <td>1</td>\n",
       "      <td>3</td>\n",
       "      <td>Braund, Mr. Owen Harris</td>\n",
       "      <td>male</td>\n",
       "      <td>22</td>\n",
       "      <td>1</td>\n",
       "      <td>0</td>\n",
       "      <td>7.2500</td>\n",
       "      <td>S</td>\n",
       "    </tr>\n",
       "    <tr>\n",
       "      <th>1</th>\n",
       "      <td>2</td>\n",
       "      <td>1</td>\n",
       "      <td>Cumings, Mrs. John Bradley</td>\n",
       "      <td>female</td>\n",
       "      <td>38</td>\n",
       "      <td>1</td>\n",
       "      <td>0</td>\n",
       "      <td>71.2833</td>\n",
       "      <td>C</td>\n",
       "    </tr>\n",
       "    <tr>\n",
       "      <th>2</th>\n",
       "      <td>3</td>\n",
       "      <td>3</td>\n",
       "      <td>Heikkinen, Miss. Laina</td>\n",
       "      <td>female</td>\n",
       "      <td>26</td>\n",
       "      <td>0</td>\n",
       "      <td>0</td>\n",
       "      <td>7.9250</td>\n",
       "      <td>S</td>\n",
       "    </tr>\n",
       "    <tr>\n",
       "      <th>3</th>\n",
       "      <td>4</td>\n",
       "      <td>1</td>\n",
       "      <td>Futrelle, Mrs. Jacques Heath</td>\n",
       "      <td>female</td>\n",
       "      <td>35</td>\n",
       "      <td>1</td>\n",
       "      <td>0</td>\n",
       "      <td>53.1000</td>\n",
       "      <td>S</td>\n",
       "    </tr>\n",
       "    <tr>\n",
       "      <th>4</th>\n",
       "      <td>5</td>\n",
       "      <td>3</td>\n",
       "      <td>Allen, Mr. William Henry</td>\n",
       "      <td>male</td>\n",
       "      <td>35</td>\n",
       "      <td>0</td>\n",
       "      <td>0</td>\n",
       "      <td>8.0500</td>\n",
       "      <td>S</td>\n",
       "    </tr>\n",
       "    <tr>\n",
       "      <th>5</th>\n",
       "      <td>6</td>\n",
       "      <td>1</td>\n",
       "      <td>Moran, Mr. James</td>\n",
       "      <td>male</td>\n",
       "      <td>29</td>\n",
       "      <td>0</td>\n",
       "      <td>0</td>\n",
       "      <td>8.4583</td>\n",
       "      <td>Q</td>\n",
       "    </tr>\n",
       "    <tr>\n",
       "      <th>6</th>\n",
       "      <td>7</td>\n",
       "      <td>3</td>\n",
       "      <td>McCarthy, Mr. Timothy J</td>\n",
       "      <td>male</td>\n",
       "      <td>54</td>\n",
       "      <td>0</td>\n",
       "      <td>0</td>\n",
       "      <td>51.8625</td>\n",
       "      <td>S</td>\n",
       "    </tr>\n",
       "    <tr>\n",
       "      <th>7</th>\n",
       "      <td>8</td>\n",
       "      <td>3</td>\n",
       "      <td>Palsson, Miss. Torborg Danira</td>\n",
       "      <td>female</td>\n",
       "      <td>23</td>\n",
       "      <td>0</td>\n",
       "      <td>0</td>\n",
       "      <td>9.8375</td>\n",
       "      <td>S</td>\n",
       "    </tr>\n",
       "    <tr>\n",
       "      <th>8</th>\n",
       "      <td>9</td>\n",
       "      <td>2</td>\n",
       "      <td>Johnson, Mrs. Oscar W</td>\n",
       "      <td>female</td>\n",
       "      <td>27</td>\n",
       "      <td>1</td>\n",
       "      <td>0</td>\n",
       "      <td>13.0000</td>\n",
       "      <td>S</td>\n",
       "    </tr>\n",
       "    <tr>\n",
       "      <th>9</th>\n",
       "      <td>10</td>\n",
       "      <td>3</td>\n",
       "      <td>Nasser, Mr. Nicholas</td>\n",
       "      <td>male</td>\n",
       "      <td>27</td>\n",
       "      <td>0</td>\n",
       "      <td>0</td>\n",
       "      <td>9.2250</td>\n",
       "      <td>S</td>\n",
       "    </tr>\n",
       "  </tbody>\n",
       "</table>\n",
       "</div>"
      ],
      "text/plain": [
       "   PassengerId  Pclass                           Name     Sex  Age  SibSp  \\\n",
       "0            1       3        Braund, Mr. Owen Harris    male   22      1   \n",
       "1            2       1     Cumings, Mrs. John Bradley  female   38      1   \n",
       "2            3       3         Heikkinen, Miss. Laina  female   26      0   \n",
       "3            4       1   Futrelle, Mrs. Jacques Heath  female   35      1   \n",
       "4            5       3       Allen, Mr. William Henry    male   35      0   \n",
       "5            6       1               Moran, Mr. James    male   29      0   \n",
       "6            7       3        McCarthy, Mr. Timothy J    male   54      0   \n",
       "7            8       3  Palsson, Miss. Torborg Danira  female   23      0   \n",
       "8            9       2          Johnson, Mrs. Oscar W  female   27      1   \n",
       "9           10       3           Nasser, Mr. Nicholas    male   27      0   \n",
       "\n",
       "   Parch     Fare Embarked  \n",
       "0      0   7.2500        S  \n",
       "1      0  71.2833        C  \n",
       "2      0   7.9250        S  \n",
       "3      0  53.1000        S  \n",
       "4      0   8.0500        S  \n",
       "5      0   8.4583        Q  \n",
       "6      0  51.8625        S  \n",
       "7      0   9.8375        S  \n",
       "8      0  13.0000        S  \n",
       "9      0   9.2250        S  "
      ]
     },
     "execution_count": 4,
     "metadata": {},
     "output_type": "execute_result"
    }
   ],
   "source": [
    "df.tail(10)\n"
   ]
  },
  {
   "cell_type": "code",
   "execution_count": 5,
   "id": "194f105d",
   "metadata": {},
   "outputs": [
    {
     "name": "stdout",
     "output_type": "stream",
     "text": [
      "<class 'pandas.core.frame.DataFrame'>\n",
      "RangeIndex: 10 entries, 0 to 9\n",
      "Data columns (total 9 columns):\n",
      " #   Column       Non-Null Count  Dtype  \n",
      "---  ------       --------------  -----  \n",
      " 0   PassengerId  10 non-null     int64  \n",
      " 1   Pclass       10 non-null     int64  \n",
      " 2   Name         10 non-null     object \n",
      " 3   Sex          10 non-null     object \n",
      " 4   Age          10 non-null     int64  \n",
      " 5   SibSp        10 non-null     int64  \n",
      " 6   Parch        10 non-null     int64  \n",
      " 7   Fare         10 non-null     float64\n",
      " 8   Embarked     10 non-null     object \n",
      "dtypes: float64(1), int64(5), object(3)\n",
      "memory usage: 852.0+ bytes\n"
     ]
    }
   ],
   "source": [
    "df.info()\n"
   ]
  },
  {
   "cell_type": "code",
   "execution_count": 6,
   "id": "f2f13212",
   "metadata": {},
   "outputs": [
    {
     "data": {
      "text/html": [
       "<div>\n",
       "<style scoped>\n",
       "    .dataframe tbody tr th:only-of-type {\n",
       "        vertical-align: middle;\n",
       "    }\n",
       "\n",
       "    .dataframe tbody tr th {\n",
       "        vertical-align: top;\n",
       "    }\n",
       "\n",
       "    .dataframe thead th {\n",
       "        text-align: right;\n",
       "    }\n",
       "</style>\n",
       "<table border=\"1\" class=\"dataframe\">\n",
       "  <thead>\n",
       "    <tr style=\"text-align: right;\">\n",
       "      <th></th>\n",
       "      <th>PassengerId</th>\n",
       "      <th>Pclass</th>\n",
       "      <th>Age</th>\n",
       "      <th>SibSp</th>\n",
       "      <th>Parch</th>\n",
       "      <th>Fare</th>\n",
       "    </tr>\n",
       "  </thead>\n",
       "  <tbody>\n",
       "    <tr>\n",
       "      <th>count</th>\n",
       "      <td>10.00000</td>\n",
       "      <td>10.000000</td>\n",
       "      <td>10.000000</td>\n",
       "      <td>10.000000</td>\n",
       "      <td>10.0</td>\n",
       "      <td>10.000000</td>\n",
       "    </tr>\n",
       "    <tr>\n",
       "      <th>mean</th>\n",
       "      <td>5.50000</td>\n",
       "      <td>2.300000</td>\n",
       "      <td>31.600000</td>\n",
       "      <td>0.400000</td>\n",
       "      <td>0.0</td>\n",
       "      <td>23.999160</td>\n",
       "    </tr>\n",
       "    <tr>\n",
       "      <th>std</th>\n",
       "      <td>3.02765</td>\n",
       "      <td>0.948683</td>\n",
       "      <td>9.500877</td>\n",
       "      <td>0.516398</td>\n",
       "      <td>0.0</td>\n",
       "      <td>24.571057</td>\n",
       "    </tr>\n",
       "    <tr>\n",
       "      <th>min</th>\n",
       "      <td>1.00000</td>\n",
       "      <td>1.000000</td>\n",
       "      <td>22.000000</td>\n",
       "      <td>0.000000</td>\n",
       "      <td>0.0</td>\n",
       "      <td>7.250000</td>\n",
       "    </tr>\n",
       "    <tr>\n",
       "      <th>25%</th>\n",
       "      <td>3.25000</td>\n",
       "      <td>1.250000</td>\n",
       "      <td>26.250000</td>\n",
       "      <td>0.000000</td>\n",
       "      <td>0.0</td>\n",
       "      <td>8.152075</td>\n",
       "    </tr>\n",
       "    <tr>\n",
       "      <th>50%</th>\n",
       "      <td>5.50000</td>\n",
       "      <td>3.000000</td>\n",
       "      <td>28.000000</td>\n",
       "      <td>0.000000</td>\n",
       "      <td>0.0</td>\n",
       "      <td>9.531250</td>\n",
       "    </tr>\n",
       "    <tr>\n",
       "      <th>75%</th>\n",
       "      <td>7.75000</td>\n",
       "      <td>3.000000</td>\n",
       "      <td>35.000000</td>\n",
       "      <td>1.000000</td>\n",
       "      <td>0.0</td>\n",
       "      <td>42.146875</td>\n",
       "    </tr>\n",
       "    <tr>\n",
       "      <th>max</th>\n",
       "      <td>10.00000</td>\n",
       "      <td>3.000000</td>\n",
       "      <td>54.000000</td>\n",
       "      <td>1.000000</td>\n",
       "      <td>0.0</td>\n",
       "      <td>71.283300</td>\n",
       "    </tr>\n",
       "  </tbody>\n",
       "</table>\n",
       "</div>"
      ],
      "text/plain": [
       "       PassengerId     Pclass        Age      SibSp  Parch       Fare\n",
       "count     10.00000  10.000000  10.000000  10.000000   10.0  10.000000\n",
       "mean       5.50000   2.300000  31.600000   0.400000    0.0  23.999160\n",
       "std        3.02765   0.948683   9.500877   0.516398    0.0  24.571057\n",
       "min        1.00000   1.000000  22.000000   0.000000    0.0   7.250000\n",
       "25%        3.25000   1.250000  26.250000   0.000000    0.0   8.152075\n",
       "50%        5.50000   3.000000  28.000000   0.000000    0.0   9.531250\n",
       "75%        7.75000   3.000000  35.000000   1.000000    0.0  42.146875\n",
       "max       10.00000   3.000000  54.000000   1.000000    0.0  71.283300"
      ]
     },
     "execution_count": 6,
     "metadata": {},
     "output_type": "execute_result"
    }
   ],
   "source": [
    "df.describe()\n"
   ]
  },
  {
   "cell_type": "code",
   "execution_count": 7,
   "id": "ec00599d",
   "metadata": {},
   "outputs": [
    {
     "data": {
      "text/plain": [
       "(10, 9)"
      ]
     },
     "execution_count": 7,
     "metadata": {},
     "output_type": "execute_result"
    }
   ],
   "source": [
    "df.shape"
   ]
  },
  {
   "cell_type": "code",
   "execution_count": 8,
   "id": "9b06338c",
   "metadata": {},
   "outputs": [
    {
     "data": {
      "text/plain": [
       "PassengerId      int64\n",
       "Pclass           int64\n",
       "Name            object\n",
       "Sex             object\n",
       "Age              int64\n",
       "SibSp            int64\n",
       "Parch            int64\n",
       "Fare           float64\n",
       "Embarked        object\n",
       "dtype: object"
      ]
     },
     "execution_count": 8,
     "metadata": {},
     "output_type": "execute_result"
    }
   ],
   "source": [
    "df.dtypes"
   ]
  },
  {
   "cell_type": "markdown",
   "id": "c891864c",
   "metadata": {},
   "source": [
    "# **Data Preprocessing**"
   ]
  },
  {
   "cell_type": "markdown",
   "id": "5e7d95d0",
   "metadata": {},
   "source": [
    "# **Check For Null Values**"
   ]
  },
  {
   "cell_type": "code",
   "execution_count": 9,
   "id": "57e124e0",
   "metadata": {},
   "outputs": [
    {
     "data": {
      "text/plain": [
       "PassengerId    0\n",
       "Pclass         0\n",
       "Name           0\n",
       "Sex            0\n",
       "Age            0\n",
       "SibSp          0\n",
       "Parch          0\n",
       "Fare           0\n",
       "Embarked       0\n",
       "dtype: int64"
      ]
     },
     "execution_count": 9,
     "metadata": {},
     "output_type": "execute_result"
    }
   ],
   "source": [
    "df.isnull().sum()"
   ]
  },
  {
   "cell_type": "markdown",
   "id": "a3ff6221",
   "metadata": {},
   "source": [
    "# **Remove Duplicates**"
   ]
  },
  {
   "cell_type": "code",
   "execution_count": 10,
   "id": "c4872d2a",
   "metadata": {},
   "outputs": [
    {
     "name": "stdout",
     "output_type": "stream",
     "text": [
      "duplicates: 0\n"
     ]
    }
   ],
   "source": [
    "print(\"duplicates:\",df.duplicated().sum())\n",
    "df=df.drop_duplicates()"
   ]
  },
  {
   "cell_type": "markdown",
   "id": "37453508",
   "metadata": {},
   "source": [
    "# **Rename Columns**"
   ]
  },
  {
   "cell_type": "code",
   "execution_count": 20,
   "id": "25289132",
   "metadata": {},
   "outputs": [],
   "source": [
    "df.rename(columns={\"sex\":\"gender\",\"fare\":\"ticketfare\"},inplace=True)"
   ]
  },
  {
   "cell_type": "markdown",
   "id": "572eaf4b",
   "metadata": {},
   "source": [
    "# **Handling Outliers in Age**"
   ]
  },
  {
   "cell_type": "code",
   "execution_count": 27,
   "id": "dde64fb7",
   "metadata": {},
   "outputs": [
    {
     "data": {
      "image/png": "[encoded data removed]",
      "text/plain": [
       "<Figure size 1200x500 with 2 Axes>"
      ]
     },
     "metadata": {},
     "output_type": "display_data"
    },
    {
     "name": "stdout",
     "output_type": "stream",
     "text": [
      "Original rows: 10\n",
      "Rows after removing outliers: 7\n",
      "Outliers removed: 3\n"
     ]
    }
   ],
   "source": [
    "import pandas as pd\n",
    "import seaborn as sns\n",
    "import matplotlib.pyplot as plt\n",
    "\n",
    "# Load dataset\n",
    "df = pd.read_csv(\"titanic.csv\")\n",
    "df.columns = df.columns.str.strip()\n",
    "\n",
    "# Drop rows with NaN in Age or Fare before removing outliers\n",
    "df = df.dropna(subset=['Age', 'Fare'])\n",
    "\n",
    "# Function to remove outliers using IQR\n",
    "def remove_outliers_iqr(data, column):\n",
    "    Q1 = data[column].quantile(0.25)\n",
    "    Q3 = data[column].quantile(0.75)\n",
    "    IQR = Q3 - Q1\n",
    "    lower = Q1 - 1.5 * IQR\n",
    "    upper = Q3 + 1.5 * IQR\n",
    "    return data[(data[column] >= lower) & (data[column] <= upper)]\n",
    "\n",
    "# Apply outlier removal\n",
    "df_cleaned = remove_outliers_iqr(df, 'Age')\n",
    "df_cleaned = remove_outliers_iqr(df_cleaned, 'Fare')\n",
    "\n",
    "# Visualize results\n",
    "plt.figure(figsize=(12, 5))\n",
    "\n",
    "plt.subplot(1, 2, 1)\n",
    "sns.boxplot(data=df_cleaned, x='Age')\n",
    "plt.title(\"After Removing Outliers - Age\")\n",
    "\n",
    "plt.subplot(1, 2, 2)\n",
    "sns.boxplot(data=df_cleaned, x='Fare')\n",
    "plt.title(\"After Removing Outliers - Fare\")\n",
    "\n",
    "plt.tight_layout()\n",
    "plt.show()\n",
    "\n",
    "# Optional: Print number of rows removed\n",
    "print(\"Original rows:\", len(df))\n",
    "print(\"Rows after removing outliers:\", len(df_cleaned))\n",
    "print(\"Outliers removed:\", len(df) - len(df_cleaned))\n"
   ]
  },
  {
   "cell_type": "markdown",
   "id": "763b7b09",
   "metadata": {},
   "source": [
    "# **Exploratory Data Analysis**"
   ]
  },
  {
   "cell_type": "markdown",
   "id": "1e23f888",
   "metadata": {},
   "source": [
    "# **Bar Chart: Passanger Class Count**"
   ]
  },
  {
   "cell_type": "code",
   "execution_count": 13,
   "id": "8638e332",
   "metadata": {},
   "outputs": [
    {
     "data": {
      "image/png": "[encoded data removed]",
      "text/plain": [
       "<Figure size 640x480 with 1 Axes>"
      ]
     },
     "metadata": {},
     "output_type": "display_data"
    }
   ],
   "source": [
    "sns.countplot(data=df,x='Pclass')\n",
    "plt.title(\"Passenger Class Count\")\n",
    "plt.show()"
   ]
  },
  {
   "cell_type": "markdown",
   "id": "7a2ef2bc",
   "metadata": {},
   "source": [
    "# **Box Plot: Age Distribution By Class**"
   ]
  },
  {
   "cell_type": "code",
   "execution_count": 14,
   "id": "6de6efd8",
   "metadata": {},
   "outputs": [
    {
     "data": {
      "image/png": "[encoded data removed]",
      "text/plain": [
       "<Figure size 640x480 with 1 Axes>"
      ]
     },
     "metadata": {},
     "output_type": "display_data"
    }
   ],
   "source": [
    "sns.boxplot(data=df,x='Pclass',y='Age')\n",
    "plt.title(\"Age Distribution by Class\")\n",
    "plt.show()"
   ]
  },
  {
   "cell_type": "markdown",
   "id": "608117bd",
   "metadata": {},
   "source": [
    "# **Line Chart:Average Fare By Age**"
   ]
  },
  {
   "cell_type": "code",
   "execution_count": 15,
   "id": "1b209eb0",
   "metadata": {},
   "outputs": [
    {
     "data": {
      "image/png": "[encoded data removed]",
      "text/plain": [
       "<Figure size 640x480 with 1 Axes>"
      ]
     },
     "metadata": {},
     "output_type": "display_data"
    }
   ],
   "source": [
    "df.sort_values(\"Age\").groupby(\"Age\")[\"Fare\"].mean().plot()\n",
    "plt.title(\"Average Fare by Age\")\n",
    "plt.show()"
   ]
  },
  {
   "cell_type": "markdown",
   "id": "79c13f03",
   "metadata": {},
   "source": [
    "# **Histogram:Age Distribution**"
   ]
  },
  {
   "cell_type": "code",
   "execution_count": 16,
   "id": "f484a7c0",
   "metadata": {},
   "outputs": [
    {
     "data": {
      "image/png": "[encoded data removed]",
      "text/plain": [
       "<Figure size 640x480 with 1 Axes>"
      ]
     },
     "metadata": {},
     "output_type": "display_data"
    }
   ],
   "source": [
    "df[\"Age\"].plot(kind=\"hist\",bins=30)\n",
    "plt.title(\"Age Distribution\")\n",
    "plt.show()"
   ]
  },
  {
   "cell_type": "markdown",
   "id": "d6c86218",
   "metadata": {},
   "source": [
    "# **Count Plot: Sex Count By Class**"
   ]
  },
  {
   "cell_type": "code",
   "execution_count": 23,
   "id": "36427605",
   "metadata": {},
   "outputs": [
    {
     "data": {
      "image/png": "[encoded data removed]",
      "text/plain": [
       "<Figure size 640x480 with 1 Axes>"
      ]
     },
     "metadata": {},
     "output_type": "display_data"
    }
   ],
   "source": [
    "sns.countplot(data=df,x='Sex',hue='Pclass')\n",
    "plt.title(\"Sex Count by Class\")\n",
    "plt.show()"
   ]
  },
  {
   "cell_type": "markdown",
   "id": "50ade372",
   "metadata": {},
   "source": [
    "# **Violin Plot:Age By Class And Gender**"
   ]
  },
  {
   "cell_type": "code",
   "execution_count": 18,
   "id": "8b3cae91",
   "metadata": {},
   "outputs": [
    {
     "data": {
      "image/png": "[encoded data removed]",
      "text/plain": [
       "<Figure size 640x480 with 1 Axes>"
      ]
     },
     "metadata": {},
     "output_type": "display_data"
    }
   ],
   "source": [
    "sns.violinplot(data=df,x='Pclass',y='Age',hue='Sex',split=True)\n",
    "plt.title(\"Violin plot of Age by Class and Sex\")\n",
    "plt.show()"
   ]
  },
  {
   "cell_type": "markdown",
   "id": "e87d92a2",
   "metadata": {},
   "source": [
    "# **Report**"
   ]
  },
  {
   "cell_type": "markdown",
   "id": "fb3ca82c",
   "metadata": {},
   "source": [
    "## 📈 Titanic Dataset Analysis – Final Report Output\n",
    "\n",
    "---\n",
    "\n",
    "### 🎯 **Project Summary:**\n",
    "\n",
    "After analyzing the Titanic dataset, we have discovered several important patterns related to passenger survival, demographics, and travel class. The data was cleaned, visualized, and interpreted to understand the factors affecting survival rates during the Titanic disaster.\n",
    "\n",
    "---\n",
    "\n",
    "### 📊 **Key Findings:**\n",
    "\n",
    "#### 1. **Survival Rate**\n",
    "\n",
    "* Out of 891 passengers:\n",
    "\n",
    "  * **342 survived** (\\~38.4%)\n",
    "  * **549 did not survive** (\\~61.6%)\n",
    "\n",
    "#### 2. **Gender Impact**\n",
    "\n",
    "* **Females** had a significantly higher survival rate (\\~74%) than **males** (\\~19%).\n",
    "* “Women and children first” policy is reflected in the data.\n",
    "\n",
    "#### 3. **Class and Survival**\n",
    "\n",
    "* Passengers in **1st class** had the **highest survival rate (\\~63%)**.\n",
    "* 3rd class passengers had the **lowest survival rate (\\~24%)**.\n",
    "* Class played a **major role** in determining access to lifeboats.\n",
    "\n",
    "#### 4. **Age Distribution**\n",
    "\n",
    "* The **average passenger age** was around **29 years**.\n",
    "* Children (age < 16) had **better chances** of survival than middle-aged adults.\n",
    "\n",
    "#### 5. **Fare Insights**\n",
    "\n",
    "* Fare amounts varied widely, indicating class differences.\n",
    "* Higher fares were mostly associated with **1st class** and **better survival odds**.\n",
    "\n",
    "#### 6. **Missing and Duplicate Data**\n",
    "\n",
    "* `Cabin` had a large number of missing values (over 70%) and was dropped.\n",
    "* Missing values in `Age` were handled using median imputation.\n",
    "* Dataset was cleaned to remove **duplicate entries and null values**.\n",
    "\n",
    "#### 7. **Outliers**\n",
    "\n",
    "* Outliers were found in `Age` and `Fare` using IQR (Interquartile Range) method.\n",
    "* These were visualized using **box plots** and removed to avoid skewed analysis.\n",
    "\n",
    "---\n",
    "\n",
    "### 📈 **Visualization Summary:**\n",
    "\n",
    "| Chart Type   | Insight Obtained                          |\n",
    "| ------------ | ----------------------------------------- |\n",
    "| Countplot    | Gender & Class-wise survival              |\n",
    "| Boxplot      | Age and Fare outlier detection            |\n",
    "| Heatmap      | Correlation between numeric features      |\n",
    "| Histogram    | Age and Fare distribution                 |\n",
    "| Violin plot  | Survival distribution across gender/class |\n",
    "| Scatter plot | Fare vs Age (with survival hue)           |\n",
    "\n",
    "---\n",
    "\n",
    "### ✅ **Final Conclusion:**\n",
    "\n",
    "* **Women, children, and 1st class passengers** had significantly higher chances of survival.\n",
    "* The dataset shows strong correlation between survival and **gender, class, and fare**.\n",
    "* Data preprocessing and visualization enabled us to clean and interpret the dataset effectively.\n",
    "* The cleaned dataset is now ready for predictive modeling (e.g., logistic regression, decision trees) for survival prediction.\n"
   ]
  }
 ],
 "metadata": {
  "kernelspec": {
   "display_name": "Python 3",
   "language": "python",
   "name": "python3"
  },
  "language_info": {
   "codemirror_mode": {
    "name": "ipython",
    "version": 3
   },
   "file_extension": ".py",
   "mimetype": "text/x-python",
   "name": "python",
   "nbconvert_exporter": "python",
   "pygments_lexer": "ipython3",
   "version": "3.13.5"
  }
 },
 "nbformat": 4,
 "nbformat_minor": 5
}
